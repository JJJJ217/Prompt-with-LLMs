{
 "cells": [
  {
   "cell_type": "markdown",
   "id": "cd4421a3",
   "metadata": {},
   "source": [
    "# Appendix Notebook: Supporting Data and Visuals\n",
    "This notebook provides the supporting data views and visuals referenced in the one-page appendix and report.\n",
    "\n",
    "Artifacts referenced:\n",
    "- Prompt: `docs/prompt.xml`\n",
    "- Report: `docs/report.md`\n",
    "- Appendix: `docs/appendix.md`\n",
    "- Data: `data/*.csv`\n",
    "- Charts (Vega-Lite specs): `charts/vega-lite/*.vl.json`\n",
    "- Tables: `charts/tables/summary_tables.md`"
   ]
  },
  {
   "cell_type": "markdown",
   "id": "9ebd39c4",
   "metadata": {},
   "source": [
    "## Environment setup\n",
    "This notebook expects Python 3.9+ with pandas and altair. If missing, the next cell will attempt to install dependencies into the current environment."
   ]
  },
  {
   "cell_type": "code",
   "execution_count": 8,
   "id": "4a7e030c",
   "metadata": {},
   "outputs": [
    {
     "name": "stdout",
     "output_type": "stream",
     "text": [
      "Dependencies ready.\n"
     ]
    }
   ],
   "source": [
    "# Install required packages if missing\n",
    "import sys, subprocess\n",
    "def ensure(pkgs):\n",
    "    for p in pkgs:\n",
    "        try:\n",
    "            __import__(p)\n",
    "        except ImportError:\n",
    "            subprocess.check_call([sys.executable, '-m', 'pip', 'install', p, '-q'])\n",
    "\n",
    "ensure(['pandas', 'altair'])\n",
    "print('Dependencies ready.')"
   ]
  },
  {
   "cell_type": "code",
   "execution_count": 9,
   "id": "47b88a98",
   "metadata": {},
   "outputs": [
    {
     "data": {
      "text/plain": [
       "(PosixPath('/Users/jiaming/Business/Business Analytic/Intro to Py for Data Analysis & AI/Project 2/Prompt-with-LLMs/healthguard-mental-health-claims-analysis/data'),\n",
       " PosixPath('/Users/jiaming/Business/Business Analytic/Intro to Py for Data Analysis & AI/Project 2/Prompt-with-LLMs/healthguard-mental-health-claims-analysis/charts/vega-lite'),\n",
       " PosixPath('/Users/jiaming/Business/Business Analytic/Intro to Py for Data Analysis & AI/Project 2/Prompt-with-LLMs/healthguard-mental-health-claims-analysis/charts/tables'))"
      ]
     },
     "execution_count": 9,
     "metadata": {},
     "output_type": "execute_result"
    }
   ],
   "source": [
    "# Imports and paths\n",
    "from pathlib import Path\n",
    "import json\n",
    "import pandas as pd\n",
    "import altair as alt\n",
    "\n",
    "# Enable default renderer in notebooks\n",
    "alt.renderers.enable('default')\n",
    "\n",
    "# Notebook is expected to be in docs/. Data and charts are one level up.\n",
    "ROOT = Path.cwd().parent if Path.cwd().name == 'docs' else Path.cwd()\n",
    "DATA_DIR = ROOT / 'data'\n",
    "VL_DIR = ROOT / 'charts' / 'vega-lite'\n",
    "TABLES_DIR = ROOT / 'charts' / 'tables'\n",
    "\n",
    "DATA_DIR, VL_DIR, TABLES_DIR"
   ]
  },
  {
   "cell_type": "code",
   "execution_count": 10,
   "id": "aaf2cf16",
   "metadata": {},
   "outputs": [
    {
     "name": "stdout",
     "output_type": "stream",
     "text": [
      "Shapes: (30, 7) (10, 2) (10, 10)\n"
     ]
    },
    {
     "data": {
      "text/html": [
       "<div>\n",
       "<style scoped>\n",
       "    .dataframe tbody tr th:only-of-type {\n",
       "        vertical-align: middle;\n",
       "    }\n",
       "\n",
       "    .dataframe tbody tr th {\n",
       "        vertical-align: top;\n",
       "    }\n",
       "\n",
       "    .dataframe thead th {\n",
       "        text-align: right;\n",
       "    }\n",
       "</style>\n",
       "<table border=\"1\" class=\"dataframe\">\n",
       "  <thead>\n",
       "    <tr style=\"text-align: right;\">\n",
       "      <th></th>\n",
       "      <th>ClaimID</th>\n",
       "      <th>PatientID</th>\n",
       "      <th>ClaimDate</th>\n",
       "      <th>ClaimAmount</th>\n",
       "      <th>Diagnosis</th>\n",
       "      <th>ProviderType</th>\n",
       "      <th>Region</th>\n",
       "    </tr>\n",
       "  </thead>\n",
       "  <tbody>\n",
       "    <tr>\n",
       "      <th>0</th>\n",
       "      <td>1</td>\n",
       "      <td>1001</td>\n",
       "      <td>2023-01-15</td>\n",
       "      <td>1500</td>\n",
       "      <td>Anxiety</td>\n",
       "      <td>Individual</td>\n",
       "      <td>Sydney</td>\n",
       "    </tr>\n",
       "    <tr>\n",
       "      <th>1</th>\n",
       "      <td>2</td>\n",
       "      <td>1002</td>\n",
       "      <td>2023-02-20</td>\n",
       "      <td>2000</td>\n",
       "      <td>Depression</td>\n",
       "      <td>Group</td>\n",
       "      <td>Regional NSW</td>\n",
       "    </tr>\n",
       "    <tr>\n",
       "      <th>2</th>\n",
       "      <td>3</td>\n",
       "      <td>1003</td>\n",
       "      <td>2023-03-10</td>\n",
       "      <td>1200</td>\n",
       "      <td>Anxiety</td>\n",
       "      <td>Individual</td>\n",
       "      <td>Sydney</td>\n",
       "    </tr>\n",
       "  </tbody>\n",
       "</table>\n",
       "</div>"
      ],
      "text/plain": [
       "   ClaimID  PatientID   ClaimDate  ClaimAmount   Diagnosis ProviderType  \\\n",
       "0        1       1001  2023-01-15         1500     Anxiety   Individual   \n",
       "1        2       1002  2023-02-20         2000  Depression        Group   \n",
       "2        3       1003  2023-03-10         1200     Anxiety   Individual   \n",
       "\n",
       "         Region  \n",
       "0        Sydney  \n",
       "1  Regional NSW  \n",
       "2        Sydney  "
      ]
     },
     "execution_count": 10,
     "metadata": {},
     "output_type": "execute_result"
    }
   ],
   "source": [
    "# Load datasets\n",
    "claims_path = DATA_DIR / 'claims_sample.csv'\n",
    "approvals_path = DATA_DIR / 'approvals_by_region_sample.csv'\n",
    "demo_path = DATA_DIR / 'demographics_sample.csv'\n",
    "\n",
    "claims = pd.read_csv(claims_path)\n",
    "approvals_by_region = pd.read_csv(approvals_path)\n",
    "demographics = pd.read_csv(demo_path)\n",
    "\n",
    "print('Shapes:', claims.shape, approvals_by_region.shape, demographics.shape)\n",
    "claims.head(3)"
   ]
  },
  {
   "cell_type": "code",
   "execution_count": 11,
   "id": "bad17de2",
   "metadata": {},
   "outputs": [
    {
     "data": {
      "text/html": [
       "<div>\n",
       "<style scoped>\n",
       "    .dataframe tbody tr th:only-of-type {\n",
       "        vertical-align: middle;\n",
       "    }\n",
       "\n",
       "    .dataframe tbody tr th {\n",
       "        vertical-align: top;\n",
       "    }\n",
       "\n",
       "    .dataframe thead th {\n",
       "        text-align: right;\n",
       "    }\n",
       "</style>\n",
       "<table border=\"1\" class=\"dataframe\">\n",
       "  <thead>\n",
       "    <tr style=\"text-align: right;\">\n",
       "      <th></th>\n",
       "      <th>Region</th>\n",
       "      <th>Approval Rate (%)</th>\n",
       "    </tr>\n",
       "  </thead>\n",
       "  <tbody>\n",
       "    <tr>\n",
       "      <th>0</th>\n",
       "      <td>Sydney</td>\n",
       "      <td>85</td>\n",
       "    </tr>\n",
       "    <tr>\n",
       "      <th>1</th>\n",
       "      <td>Regional NSW</td>\n",
       "      <td>62</td>\n",
       "    </tr>\n",
       "    <tr>\n",
       "      <th>2</th>\n",
       "      <td>Melbourne</td>\n",
       "      <td>78</td>\n",
       "    </tr>\n",
       "  </tbody>\n",
       "</table>\n",
       "</div>"
      ],
      "text/plain": [
       "         Region  Approval Rate (%)\n",
       "0        Sydney                 85\n",
       "1  Regional NSW                 62\n",
       "2     Melbourne                 78"
      ]
     },
     "metadata": {},
     "output_type": "display_data"
    },
    {
     "data": {
      "text/html": [
       "<div>\n",
       "<style scoped>\n",
       "    .dataframe tbody tr th:only-of-type {\n",
       "        vertical-align: middle;\n",
       "    }\n",
       "\n",
       "    .dataframe tbody tr th {\n",
       "        vertical-align: top;\n",
       "    }\n",
       "\n",
       "    .dataframe thead th {\n",
       "        text-align: right;\n",
       "    }\n",
       "</style>\n",
       "<table border=\"1\" class=\"dataframe\">\n",
       "  <thead>\n",
       "    <tr style=\"text-align: right;\">\n",
       "      <th></th>\n",
       "      <th>PatientID</th>\n",
       "      <th>Age</th>\n",
       "      <th>Gender</th>\n",
       "      <th>Income</th>\n",
       "      <th>EmploymentStatus</th>\n",
       "      <th>Region</th>\n",
       "      <th>EducationLevel</th>\n",
       "      <th>MentalHealthDiagnosis</th>\n",
       "      <th>TreatmentType</th>\n",
       "      <th>TreatmentDuration</th>\n",
       "    </tr>\n",
       "  </thead>\n",
       "  <tbody>\n",
       "    <tr>\n",
       "      <th>0</th>\n",
       "      <td>1</td>\n",
       "      <td>25</td>\n",
       "      <td>Female</td>\n",
       "      <td>55000</td>\n",
       "      <td>Employed</td>\n",
       "      <td>Sydney</td>\n",
       "      <td>Bachelor’s</td>\n",
       "      <td>Anxiety</td>\n",
       "      <td>Therapy</td>\n",
       "      <td>12</td>\n",
       "    </tr>\n",
       "    <tr>\n",
       "      <th>1</th>\n",
       "      <td>2</td>\n",
       "      <td>34</td>\n",
       "      <td>Male</td>\n",
       "      <td>72000</td>\n",
       "      <td>Employed</td>\n",
       "      <td>Regional NSW</td>\n",
       "      <td>Master’s</td>\n",
       "      <td>Depression</td>\n",
       "      <td>Medication</td>\n",
       "      <td>24</td>\n",
       "    </tr>\n",
       "    <tr>\n",
       "      <th>2</th>\n",
       "      <td>3</td>\n",
       "      <td>45</td>\n",
       "      <td>Female</td>\n",
       "      <td>48000</td>\n",
       "      <td>Unemployed</td>\n",
       "      <td>Sydney</td>\n",
       "      <td>High School</td>\n",
       "      <td>Anxiety</td>\n",
       "      <td>Therapy</td>\n",
       "      <td>6</td>\n",
       "    </tr>\n",
       "  </tbody>\n",
       "</table>\n",
       "</div>"
      ],
      "text/plain": [
       "   PatientID   Age   Gender   Income  EmploymentStatus         Region  \\\n",
       "0          1    25   Female    55000          Employed         Sydney   \n",
       "1          2    34     Male    72000          Employed   Regional NSW   \n",
       "2          3    45   Female    48000        Unemployed         Sydney   \n",
       "\n",
       "   EducationLevel  MentalHealthDiagnosis  TreatmentType   TreatmentDuration  \n",
       "0      Bachelor’s                Anxiety        Therapy                  12  \n",
       "1        Master’s             Depression     Medication                  24  \n",
       "2     High School                Anxiety        Therapy                   6  "
      ]
     },
     "metadata": {},
     "output_type": "display_data"
    }
   ],
   "source": [
    "# Quick peeks\n",
    "display(approvals_by_region.head(3))\n",
    "display(demographics.head(3))"
   ]
  },
  {
   "cell_type": "markdown",
   "id": "dd5e5f8b",
   "metadata": {},
   "source": [
    "## Summary tables (from charts/tables/summary_tables.md)"
   ]
  },
  {
   "cell_type": "code",
   "execution_count": 12,
   "id": "8778e409",
   "metadata": {},
   "outputs": [
    {
     "data": {
      "text/markdown": [],
      "text/plain": [
       "<IPython.core.display.Markdown object>"
      ]
     },
     "metadata": {},
     "output_type": "display_data"
    }
   ],
   "source": [
    "# Render the markdown summary table inside the notebook\n",
    "from IPython.display import Markdown, display\n",
    "summary_md_path = TABLES_DIR / 'summary_tables.md'\n",
    "if summary_md_path.exists():\n",
    "    display(Markdown(summary_md_path.read_text(encoding='utf-8')))\n",
    "else:\n",
    "    print('summary_tables.md not found at', summary_md_path)"
   ]
  },
  {
   "cell_type": "markdown",
   "id": "e845d711",
   "metadata": {},
   "source": [
    "## Charts from existing Vega-Lite specs\n",
    "These cells read the Vega-Lite JSON specs shipped in the repo and render them inline using Altair."
   ]
  },
  {
   "cell_type": "code",
   "execution_count": 13,
   "id": "83776348",
   "metadata": {},
   "outputs": [],
   "source": [
    "# Claims trend visualization\n",
    "claims_spec_path = VL_DIR / 'claims_trend.vl.json'\n",
    "if claims_spec_path.exists():\n",
    "    spec = json.loads(claims_spec_path.read_text(encoding='utf-8'))\n",
    "    chart = alt.Chart.from_dict(spec)\n",
    "    chart\n",
    "else:\n",
    "    print('Vega-Lite spec not found:', claims_spec_path)"
   ]
  },
  {
   "cell_type": "code",
   "execution_count": 14,
   "id": "ba977b88",
   "metadata": {},
   "outputs": [],
   "source": [
    "# Regional approval rates visualization\n",
    "regional_spec_path = VL_DIR / 'regional_approval_rates.vl.json'\n",
    "if regional_spec_path.exists():\n",
    "    spec = json.loads(regional_spec_path.read_text(encoding='utf-8'))\n",
    "    chart = alt.Chart.from_dict(spec)\n",
    "    chart\n",
    "else:\n",
    "    print('Vega-Lite spec not found:', regional_spec_path)"
   ]
  },
  {
   "cell_type": "markdown",
   "id": "77e6b2ed",
   "metadata": {},
   "source": [
    "## Notes\n",
    "- Paths are resolved relative to this notebook's location in `docs/`.\n",
    "- For richer analysis (attribution of the 40% increase, variance decomposition, fairness metrics), extend this notebook with modeling cells."
   ]
  }
 ],
 "metadata": {
  "kernelspec": {
   "display_name": "Python 3",
   "language": "python",
   "name": "python3"
  },
  "language_info": {
   "codemirror_mode": {
    "name": "ipython",
    "version": 3
   },
   "file_extension": ".py",
   "mimetype": "text/x-python",
   "name": "python",
   "nbconvert_exporter": "python",
   "pygments_lexer": "ipython3",
   "version": "3.11.4"
  }
 },
 "nbformat": 4,
 "nbformat_minor": 5
}
